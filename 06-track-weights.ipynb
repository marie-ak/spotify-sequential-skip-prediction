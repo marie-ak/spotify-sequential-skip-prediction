{
 "cells": [
  {
   "cell_type": "code",
   "execution_count": 1,
   "metadata": {},
   "outputs": [],
   "source": [
    "import numpy as np\n",
    "import pandas as pd"
   ]
  },
  {
   "cell_type": "code",
   "execution_count": 2,
   "metadata": {},
   "outputs": [],
   "source": [
    "def evaluate(submission,groundtruth):\n",
    "    ap_sum = 0.0\n",
    "    first_pred_acc_sum = 0.0\n",
    "    counter = 0\n",
    "    for sub, tru in zip(submission, groundtruth):\n",
    "        if len(sub) != len(tru):\n",
    "            raise Exception('Line {} should contain {} predictions, but instead contains '\n",
    "                            '{}'.format(counter+1,len(tru),len(sub)))\n",
    "        ap_sum += ave_pre(sub,tru,counter)\n",
    "        first_pred_acc_sum += sub[0] == tru[0]\n",
    "        counter+=1\n",
    "    ap = ap_sum/counter\n",
    "    first_pred_acc = first_pred_acc_sum/counter\n",
    "    return ap,first_pred_acc\n",
    "def ave_pre(submission,groundtruth,counter):\n",
    "    s = 0.0\n",
    "    t = 0.0\n",
    "    c = 1.0\n",
    "    for x, y in zip(submission, groundtruth):\n",
    "        if x != 0 and x != 1:\n",
    "            raise Exception('Invalid prediction in line {}, should be 0 or 1'.format(counter))\n",
    "        if x==y:\n",
    "            s += 1.0\n",
    "            t += s / c\n",
    "        c += 1\n",
    "    return t/len(groundtruth)"
   ]
  },
  {
   "cell_type": "code",
   "execution_count": 3,
   "metadata": {},
   "outputs": [
    {
     "data": {
      "text/plain": [
       "array([1.7157535 , 1.42285967, 1.22759711, 1.08115019, 0.96399265,\n",
       "       0.86636138, 0.78267742, 0.70945396, 0.64436644, 0.58578768])"
      ]
     },
     "execution_count": 3,
     "metadata": {},
     "output_type": "execute_result"
    }
   ],
   "source": [
    "l = 10\n",
    "tmp = [\n",
    "    ave_pre(\n",
    "        [1 for _ in range(l)],\n",
    "        [0 if i==j else 1 for j in range(l)],\n",
    "        None)\n",
    "    for i in range(l)]\n",
    "tmp = 1 - np.array(tmp)\n",
    "tmp * l / np.sum(tmp)"
   ]
  },
  {
   "cell_type": "code",
   "execution_count": 4,
   "metadata": {},
   "outputs": [
    {
     "data": {
      "text/plain": [
       "array([1.6782454 , 1.38162748, 1.18388219, 1.03557323, 0.91692605,\n",
       "       0.81805341, 0.73330543, 0.65915095, 0.59323586])"
      ]
     },
     "execution_count": 4,
     "metadata": {},
     "output_type": "execute_result"
    }
   ],
   "source": [
    "l = 9\n",
    "tmp = [\n",
    "    ave_pre(\n",
    "        [1 for _ in range(l)],\n",
    "        [0 if i==j else 1 for j in range(l)],\n",
    "        None)\n",
    "    for i in range(l)]\n",
    "tmp = 1 - np.array(tmp)\n",
    "tmp * l / np.sum(tmp)"
   ]
  },
  {
   "cell_type": "code",
   "execution_count": 5,
   "metadata": {},
   "outputs": [
    {
     "data": {
      "text/plain": [
       "array([1.63699919, 1.33584297, 1.13507215, 0.98449404, 0.86403155,\n",
       "       0.76364614, 0.67760151, 0.60231245])"
      ]
     },
     "execution_count": 5,
     "metadata": {},
     "output_type": "execute_result"
    }
   ],
   "source": [
    "l = 8\n",
    "tmp = [\n",
    "    ave_pre(\n",
    "        [1 for _ in range(l)],\n",
    "        [0 if i==j else 1 for j in range(l)],\n",
    "        None)\n",
    "    for i in range(l)]\n",
    "tmp = 1 - np.array(tmp)\n",
    "tmp * l / np.sum(tmp)"
   ]
  },
  {
   "cell_type": "code",
   "execution_count": 6,
   "metadata": {},
   "outputs": [
    {
     "data": {
      "text/plain": [
       "array([1.59110833, 1.28428303, 1.07973283, 0.92632018, 0.80359006,\n",
       "       0.70131497, 0.61365059])"
      ]
     },
     "execution_count": 6,
     "metadata": {},
     "output_type": "execute_result"
    }
   ],
   "source": [
    "l = 7\n",
    "tmp = [\n",
    "    ave_pre(\n",
    "        [1 for _ in range(l)],\n",
    "        [0 if i==j else 1 for j in range(l)],\n",
    "        None)\n",
    "    for i in range(l)]\n",
    "tmp = 1 - np.array(tmp)\n",
    "tmp * l / np.sum(tmp)"
   ]
  },
  {
   "cell_type": "code",
   "execution_count": 7,
   "metadata": {},
   "outputs": [
    {
     "data": {
      "text/plain": [
       "array([1.53926702, 1.22513089, 1.01570681, 0.85863874, 0.73298429,\n",
       "       0.62827225])"
      ]
     },
     "execution_count": 7,
     "metadata": {},
     "output_type": "execute_result"
    }
   ],
   "source": [
    "l = 6\n",
    "tmp = [\n",
    "    ave_pre(\n",
    "        [1 for _ in range(l)],\n",
    "        [0 if i==j else 1 for j in range(l)],\n",
    "        None)\n",
    "    for i in range(l)]\n",
    "tmp = 1 - np.array(tmp)\n",
    "tmp * l / np.sum(tmp)"
   ]
  },
  {
   "cell_type": "code",
   "execution_count": 8,
   "metadata": {},
   "outputs": [
    {
     "data": {
      "text/plain": [
       "array([1.47948164, 1.15550756, 0.93952484, 0.7775378 , 0.64794816])"
      ]
     },
     "execution_count": 8,
     "metadata": {},
     "output_type": "execute_result"
    }
   ],
   "source": [
    "l = 5\n",
    "tmp = [\n",
    "    ave_pre(\n",
    "        [1 for _ in range(l)],\n",
    "        [0 if i==j else 1 for j in range(l)],\n",
    "        None)\n",
    "    for i in range(l)]\n",
    "tmp = 1 - np.array(tmp)\n",
    "tmp * l / np.sum(tmp)"
   ]
  },
  {
   "cell_type": "code",
   "execution_count": null,
   "metadata": {},
   "outputs": [],
   "source": []
  }
 ],
 "metadata": {
  "kernelspec": {
   "display_name": "Python 3",
   "language": "python",
   "name": "python3"
  },
  "language_info": {
   "codemirror_mode": {
    "name": "ipython",
    "version": 3
   },
   "file_extension": ".py",
   "mimetype": "text/x-python",
   "name": "python",
   "nbconvert_exporter": "python",
   "pygments_lexer": "ipython3",
   "version": "3.6.7"
  },
  "toc": {
   "base_numbering": 1,
   "nav_menu": {},
   "number_sections": true,
   "sideBar": true,
   "skip_h1_title": false,
   "title_cell": "Table of Contents",
   "title_sidebar": "Contents",
   "toc_cell": false,
   "toc_position": {},
   "toc_section_display": true,
   "toc_window_display": false
  }
 },
 "nbformat": 4,
 "nbformat_minor": 2
}
